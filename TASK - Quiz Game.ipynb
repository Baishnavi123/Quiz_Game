{
 "cells": [
  {
   "cell_type": "markdown",
   "id": "f98d5242",
   "metadata": {},
   "source": [
    "# TASK - Quiz Game"
   ]
  },
  {
   "cell_type": "code",
   "execution_count": null,
   "id": "39f44e53",
   "metadata": {},
   "outputs": [],
   "source": [
    "Develop a quiz game that asks users multiple-choice or fill-in-the-blank questions on a specific topic. \n",
    "The game should keep track of scores, provide feedback on correct/incorrect answers, \n",
    "and offer a variety of questions to make it challenging and engaging. \n",
    "Load Quiz Questions. Calculate the Final Score. Display Final Results: Display Welcome Message and Rules. \n",
    "Present Quiz Questions: Display each question and answer choice. Prompt the user to select an answer. \n",
    "Evaluate the User's Answer: Compare the user's answer with the correct answer. \n",
    "Keep track of the user's score. Provide Feedback: Display if the answer was correct or incorrect. \n",
    "Show the correct answer for incorrect responses. \n",
    "Play Again: Ask the user if they want to play again."
   ]
  },
  {
   "cell_type": "code",
   "execution_count": 1,
   "id": "931744d5",
   "metadata": {},
   "outputs": [
    {
     "name": "stdout",
     "output_type": "stream",
     "text": [
      "who is the pm of india ? : 1.Narendra Modi , 2.Naveen Pattnaik\n",
      "enter your answer :Narendra Modi\n",
      "what is the capital of india ? : 1.Mumbai , 2.Delhi\n",
      "enter your answer :Mumbai\n",
      "the correct answer are delhi\n",
      "How many states are in India ? : 1.20 , 2.29\n",
      "enter your answer :29\n",
      "your score is  2\n",
      "Want to play again : yes or no :no\n"
     ]
    }
   ],
   "source": [
    "def game():\n",
    "    qns=['who is the pm of india ? : 1.Narendra Modi , 2.Naveen Pattnaik',\n",
    "         'what is the capital of india ? : 1.Mumbai , 2.Delhi',\n",
    "        'How many states are in India ? : 1.20 , 2.29']\n",
    "    ans=['narendra modi','delhi','29']\n",
    "    n=len(qns)\n",
    "    count=0\n",
    "    for i in range(0,n):\n",
    "        print(qns[i])\n",
    "        answer=input(\"enter your answer :\")\n",
    "        if answer.casefold()==ans[i].casefold():\n",
    "            count=count+1\n",
    "        else:\n",
    "            print(f'the correct answer are {ans[i].casefold()}')\n",
    "    print('your score is ',count)\n",
    "game()\n",
    "play=input('Want to play again : yes or no :')\n",
    "if play=='yes':\n",
    "    game()"
   ]
  },
  {
   "cell_type": "code",
   "execution_count": null,
   "id": "47ab0b3e",
   "metadata": {},
   "outputs": [],
   "source": []
  },
  {
   "cell_type": "code",
   "execution_count": null,
   "id": "0dac16ab",
   "metadata": {},
   "outputs": [],
   "source": []
  }
 ],
 "metadata": {
  "kernelspec": {
   "display_name": "Python 3 (ipykernel)",
   "language": "python",
   "name": "python3"
  },
  "language_info": {
   "codemirror_mode": {
    "name": "ipython",
    "version": 3
   },
   "file_extension": ".py",
   "mimetype": "text/x-python",
   "name": "python",
   "nbconvert_exporter": "python",
   "pygments_lexer": "ipython3",
   "version": "3.9.12"
  }
 },
 "nbformat": 4,
 "nbformat_minor": 5
}
